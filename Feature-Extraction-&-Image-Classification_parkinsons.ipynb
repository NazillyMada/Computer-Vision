{
  "nbformat": 4,
  "nbformat_minor": 0,
  "metadata": {
    "colab": {
      "name": "Assignment#13.ipynb",
      "provenance": [],
      "collapsed_sections": [
        "7o8xu2mZT3tr",
        "HbI7OhimZkba",
        "6I4TpA1akot4",
        "Ku-fSKURJC9C",
        "eWuhxC2ccrdC",
        "ph_0KnfI42zY",
        "EqkCq_Nt7Dw1"
      ],
      "toc_visible": true
    },
    "kernelspec": {
      "name": "python3",
      "display_name": "Python 3"
    }
  },
  "cells": [
    {
      "cell_type": "code",
      "metadata": {
        "id": "XOfAKfPFZtOk",
        "colab_type": "code",
        "colab": {}
      },
      "source": [
        "from skimage import feature\n",
        "from imutils import paths\n",
        "import numpy as np\n",
        "import cv2 as cv\n",
        "import os\n",
        "import pandas as pd\n",
        "from google.colab.patches import cv2_imshow\n",
        "import matplotlib.pyplot as plt\n",
        "from sklearn.preprocessing import LabelEncoder\n",
        "from sklearn.model_selection import cross_val_score\n",
        "from sklearn.metrics import classification_report\n",
        "from sklearn.metrics import confusion_matrix\n",
        "from sklearn.metrics import f1_score, precision_score, recall_score\n",
        "from imutils import build_montages\n",
        "from sklearn.linear_model import LogisticRegression\n",
        "from sklearn.svm import LinearSVC\n",
        "from sklearn.ensemble import RandomForestClassifier\n",
        "from sklearn.neighbors import KNeighborsClassifier\n",
        "from sklearn.neural_network import MLPClassifier"
      ],
      "execution_count": null,
      "outputs": []
    },
    {
      "cell_type": "code",
      "metadata": {
        "id": "IEFlNt0tUsMR",
        "colab_type": "code",
        "colab": {}
      },
      "source": [
        "image1 = cv.imread('/content/drive/My Drive/Colab Notebooks/parkinsons/wave/training/healthy/V01HO02.png')\n",
        "cv2_imshow(image1)\n",
        "imgplot = plt.hist(image1.flatten(), 256, [0,256])\n",
        "threshold_value1, threshold_result1 = cv.threshold(image1, 150, 255, cv.THRESH_BINARY_INV)\n",
        "cv2_imshow(threshold_result1)"
      ],
      "execution_count": null,
      "outputs": []
    },
    {
      "cell_type": "markdown",
      "metadata": {
        "id": "7o8xu2mZT3tr",
        "colab_type": "text"
      },
      "source": [
        "# Preprocessing"
      ]
    },
    {
      "cell_type": "code",
      "metadata": {
        "id": "ysM-pcLGTwP8",
        "colab_type": "code",
        "colab": {}
      },
      "source": [
        "def preprocessing(image, image_size):\n",
        "  image = cv.cvtColor(image, cv.COLOR_BGR2GRAY)\n",
        "  image = cv.resize(image, (image_size,image_size))\n",
        "  image = cv.threshold(image, 0, 255, cv.THRESH_BINARY_INV | cv.THRESH_OTSU)[1]\n",
        "  return image"
      ],
      "execution_count": null,
      "outputs": []
    },
    {
      "cell_type": "code",
      "metadata": {
        "id": "60ug57piYfV1",
        "colab_type": "code",
        "colab": {}
      },
      "source": [
        "def load_split(path, image_size, extraction_method):\n",
        "  image_paths = list(paths.list_images(path))\n",
        "  data = []\n",
        "  labels = []\n",
        "  \n",
        "  for image_path in image_paths :\n",
        "    label = image_path.split(os.path.sep)[-2]\n",
        "    image = cv.imread(image_path)\n",
        "    image = preprocessing(image, image_size = image_size)\n",
        "\n",
        "    if extraction_method == 'hog':\n",
        "      features = quantify_image_hog(image)\n",
        "    elif extraction_method == 'lbp':\n",
        "      features = quantify_image_lbp(image)\n",
        "\n",
        "    data.append(features)\n",
        "    labels.append(label)\n",
        "\n",
        "  return (np.array(data), np.array(labels))"
      ],
      "execution_count": null,
      "outputs": []
    },
    {
      "cell_type": "markdown",
      "metadata": {
        "id": "HbI7OhimZkba",
        "colab_type": "text"
      },
      "source": [
        "# Feature Extractor"
      ]
    },
    {
      "cell_type": "code",
      "metadata": {
        "id": "pC6epkrsZoLG",
        "colab_type": "code",
        "colab": {}
      },
      "source": [
        "# HOG\n",
        "def quantify_image_hog(image): # Histogram of Oriented Gradient features\n",
        "  features = feature.hog(image, orientations=9, pixels_per_cell=(10, 10), cells_per_block=(2, 2), transform_sqrt=True, block_norm=\"L1\")\n",
        "  \n",
        "  \n",
        "  return features"
      ],
      "execution_count": null,
      "outputs": []
    },
    {
      "cell_type": "code",
      "metadata": {
        "id": "U05Zp4fSZuSb",
        "colab_type": "code",
        "colab": {}
      },
      "source": [
        "# LBP\n",
        "def quantify_image_lbp(image): # Local Binary Pattern features\n",
        "  features = feature.local_binary_pattern(image, 24, 8, method=\"uniform\")\n",
        "  (hist, _) = np.histogram(features.flatten(), bins=np.arange(0, 27), range=(0, 26))\n",
        "  \n",
        "  hist = hist.astype(\"float\")\n",
        "  hist /= (hist.sum() + 1e-7)\n",
        "  return hist"
      ],
      "execution_count": null,
      "outputs": []
    },
    {
      "cell_type": "markdown",
      "metadata": {
        "id": "6I4TpA1akot4",
        "colab_type": "text"
      },
      "source": [
        "# Function"
      ]
    },
    {
      "cell_type": "code",
      "metadata": {
        "id": "I-2pe42xkm5a",
        "colab_type": "code",
        "colab": {}
      },
      "source": [
        "def scores(obj, predict, feature2, label2):\n",
        "    print('Accuracy   on test set: {:.3f}'.format(obj.score(feature2, label2)))\n",
        "    print('F1_score   on test set: {:.3f}'.format(f1_score(label2, predict, average='macro')))\n",
        "    print('Precision  on test set: {:.3f}'.format(precision_score(label2, predict, average='macro')))\n",
        "    print('Recall     on test set: {:.3f}'.format(recall_score(label2, predict, average='macro')))"
      ],
      "execution_count": null,
      "outputs": []
    },
    {
      "cell_type": "code",
      "metadata": {
        "id": "GzFx9y4DmMOV",
        "colab_type": "code",
        "colab": {}
      },
      "source": [
        "def test(path, resize_image_size, model):\n",
        "  testing_paths = list(paths.list_images(path))\n",
        "  images = []\n",
        "\n",
        "  for testing_path in testing_paths[:25]:\n",
        "    image = cv.imread(testing_path)\n",
        "    output = image.copy()\n",
        "    output = cv.resize(output, (128, 128))\n",
        "    \n",
        "    image = preprocessing(image, image_size = resize_image_size)\n",
        "    \n",
        "    if extraction_method == 'hog':\n",
        "      features = quantify_image_hog(image)\n",
        "    elif extraction_method == 'lbp':\n",
        "      features = quantify_image_lbp(image)\n",
        "    \n",
        "    preds = model.predict([features])\n",
        "    label = le.inverse_transform(preds)[0]\n",
        "    color = (0, 255, 0) if label == \"healthy\" else (0, 0, 255)\n",
        "    cv.putText(output, label, (3, 20), cv.FONT_HERSHEY_SIMPLEX, 0.5, color, 2)\n",
        "    images.append(output)\n",
        "  \n",
        "  montage = build_montages(images, (128, 128), (5, 5))[0]\n",
        "  cv2_imshow(montage)"
      ],
      "execution_count": null,
      "outputs": []
    },
    {
      "cell_type": "markdown",
      "metadata": {
        "id": "Ku-fSKURJC9C",
        "colab_type": "text"
      },
      "source": [
        "# Algorithm"
      ]
    },
    {
      "cell_type": "code",
      "metadata": {
        "id": "IC6hM_LzS_e1",
        "colab_type": "code",
        "colab": {}
      },
      "source": [
        "def logistic_regression(feature_train,label_train,feature_test,label_test):\n",
        "  print(\"Logistic Regression\")\n",
        "  logreg = LogisticRegression(max_iter=1000,random_state=10)\n",
        "  logreg.fit(feature_train, label_train)\n",
        "  cross_val= cross_val_score(logreg, feature_train,label_train, cv=10)\n",
        "  print(\"Cross Validation Score : \"+str(cross_val))\n",
        "  predictions = logreg.predict(feature_test)\n",
        "  scores(logreg,predictions,feature_test,label_test)\n",
        "  cm = confusion_matrix(label_test,predictions)\n",
        "  cr = classification_report(label_test, predictions)\n",
        "  print(cm)\n",
        "  print(cr)\n",
        "  print(\"------------------------------------------------------------------\")\n",
        "  print()\n",
        "  return logreg\n"
      ],
      "execution_count": null,
      "outputs": []
    },
    {
      "cell_type": "code",
      "metadata": {
        "id": "VkIfQIJvd3V3",
        "colab_type": "code",
        "colab": {}
      },
      "source": [
        "def linear_svc(feature_train,label_train,feature_test,label_tes):\n",
        "  print(\"Linear SVC\")\n",
        "  svc = LinearSVC(max_iter=10000,random_state=10,C=10.0)\n",
        "  svc.fit(feature_train, label_train)\n",
        "  cross_val= cross_val_score(svc, feature_train,label_train, cv=10)\n",
        "  print(\"Cross Validation Score : \"+str(cross_val))\n",
        "  predictions = svc.predict(feature_test)\n",
        "  scores(svc,predictions,feature_test,label_test)\n",
        "  cm = confusion_matrix(label_test,predictions)\n",
        "  cr = classification_report(label_test, predictions)\n",
        "  print(cm)\n",
        "  print(cr)\n",
        "  print(\"------------------------------------------------------------------\")\n",
        "  print()\n",
        "  return svc"
      ],
      "execution_count": null,
      "outputs": []
    },
    {
      "cell_type": "code",
      "metadata": {
        "id": "ySCuN7yReoI7",
        "colab_type": "code",
        "colab": {}
      },
      "source": [
        "def random_forest(feature_train, label_train, feature_test, label_test):\n",
        "  print(\"Random Forest\")\n",
        "  rfc = RandomForestClassifier(n_estimators=100,random_state=10)\n",
        "  rfc.fit(feature_train, label_train)\n",
        "  cross_val= cross_val_score(rfc, feature_train,label_train, cv=10)\n",
        "  print(\"Cross Validation Score : \"+str(cross_val))\n",
        "  predictions = rfc.predict(feature_test)\n",
        "  scores(rfc,predictions,feature_test,label_test)\n",
        "  cm = confusion_matrix(label_test,predictions)\n",
        "  cr = classification_report(label_test, predictions)\n",
        "  print(cm)\n",
        "  print(cr)\n",
        "  print(\"------------------------------------------------------------------\")\n",
        "  print()\n",
        "  return rfc"
      ],
      "execution_count": null,
      "outputs": []
    },
    {
      "cell_type": "code",
      "metadata": {
        "id": "OatCocdVfZDI",
        "colab_type": "code",
        "colab": {}
      },
      "source": [
        "def KNN(feature_train, label_train, feature_test, label_test):\n",
        "  print(\"KNN\")\n",
        "  knn = KNeighborsClassifier(n_neighbors=11,weights='distance',algorithm='auto')\n",
        "  knn.fit(feature_train,label_train)\n",
        "  cross_val= cross_val_score(knn, feature_train,label_train, cv=10)\n",
        "  print(\"Cross Validation Score : \"+str(cross_val))\n",
        "  predictions = knn.predict(feature_test)\n",
        "  scores(knn,predictions,feature_test,label_test)\n",
        "  cm = confusion_matrix(label_test,predictions)\n",
        "  cr = classification_report(label_test, predictions)\n",
        "  print(cm)\n",
        "  print(cr)\n",
        "  print(\"------------------------------------------------------------------\")\n",
        "  print()\n",
        "  return knn"
      ],
      "execution_count": null,
      "outputs": []
    },
    {
      "cell_type": "code",
      "metadata": {
        "id": "qgOKPD2Hf02O",
        "colab_type": "code",
        "colab": {}
      },
      "source": [
        "def MLP(feature_train, label_train, feature_test, label_test):\n",
        "  print(\"MLP\")\n",
        "  mlp = MLPClassifier(hidden_layer_sizes=10, activation='relu',solver='lbfgs',batch_size='auto', learning_rate_init=0.0001, max_iter=10000,early_stopping=False)\n",
        "  mlp.fit(feature_train,label_train)\n",
        "  cross_val= cross_val_score(mlp, feature_train,label_train, cv=10)\n",
        "  print(\"Cross Validation Score : \"+str(cross_val))\n",
        "  predictions = mlp.predict(feature_test)\n",
        "  scores(mlp, predictions,feature_test,label_test)\n",
        "  cm = confusion_matrix(label_test,predictions)\n",
        "  cr = classification_report(label_test, predictions)\n",
        "  print(cm)\n",
        "  print(cr)\n",
        "  print(\"------------------------------------------------------------------\")\n",
        "  print()\n",
        "  return mlp"
      ],
      "execution_count": null,
      "outputs": []
    },
    {
      "cell_type": "markdown",
      "metadata": {
        "id": "eWuhxC2ccrdC",
        "colab_type": "text"
      },
      "source": [
        "# Using HOG 128"
      ]
    },
    {
      "cell_type": "code",
      "metadata": {
        "id": "cMNHRpCIcvjA",
        "colab_type": "code",
        "colab": {}
      },
      "source": [
        "dataset_dir = '/content/drive/My Drive/Colab Notebooks/parkinsons/wave'\n",
        "\n",
        "trainingPath = os.path.join(dataset_dir, \"training\")\n",
        "testingPath = os.path.join(dataset_dir, \"testing\")\n",
        "\n",
        "print(trainingPath)\n",
        "print(testingPath)\n"
      ],
      "execution_count": null,
      "outputs": []
    },
    {
      "cell_type": "code",
      "metadata": {
        "id": "tP-G1j6_icF3",
        "colab_type": "code",
        "colab": {}
      },
      "source": [
        "resize_image_size = 128\n",
        "extraction_method = 'hog'\n",
        "\n",
        "(feature_train, label_train) = load_split(path = trainingPath, image_size= resize_image_size, extraction_method = extraction_method)\n",
        "(feature_test, label_test) = load_split(path = testingPath, image_size= resize_image_size, extraction_method = extraction_method)\n",
        "\n",
        "print(\"Data loaded!\")\n",
        "le = LabelEncoder()\n",
        "label_train = le.fit_transform(label_train)\n",
        "label_test = le.transform(label_test)\n"
      ],
      "execution_count": null,
      "outputs": []
    },
    {
      "cell_type": "code",
      "metadata": {
        "id": "QD0RyEru6SC7",
        "colab_type": "code",
        "colab": {}
      },
      "source": [
        "print(label_train)\n",
        "print(label_test)"
      ],
      "execution_count": null,
      "outputs": []
    },
    {
      "cell_type": "markdown",
      "metadata": {
        "id": "JieENKlJl8QM",
        "colab_type": "text"
      },
      "source": [
        "## Training"
      ]
    },
    {
      "cell_type": "code",
      "metadata": {
        "id": "xcx_0agqM3TM",
        "colab_type": "code",
        "colab": {}
      },
      "source": [
        "logreg = logistic_regression(feature_train,label_train,feature_test,label_test)\n",
        "svc = linear_svc(feature_train,label_train,feature_test,label_test)\n",
        "rfc = random_forest(feature_train,label_train,feature_test,label_test)\n",
        "knn = KNN(feature_train,label_train,feature_test,label_test)\n",
        "mlc = MLP(feature_train,label_train,feature_test,label_test)"
      ],
      "execution_count": null,
      "outputs": []
    },
    {
      "cell_type": "markdown",
      "metadata": {
        "id": "bqlZJ2I_l_5Z",
        "colab_type": "text"
      },
      "source": [
        "## Testing"
      ]
    },
    {
      "cell_type": "code",
      "metadata": {
        "id": "letltAwjmEpU",
        "colab_type": "code",
        "colab": {}
      },
      "source": [
        "# Testing Logistic Regression\n",
        "images = test(testingPath,resize_image_size,logreg)"
      ],
      "execution_count": null,
      "outputs": []
    },
    {
      "cell_type": "code",
      "metadata": {
        "id": "vuRMwVbdwVRT",
        "colab_type": "code",
        "colab": {}
      },
      "source": [
        "# Testing SVC\n",
        "images = test(testingPath,resize_image_size,svc)"
      ],
      "execution_count": null,
      "outputs": []
    },
    {
      "cell_type": "code",
      "metadata": {
        "id": "vvq4-jy3wV2n",
        "colab_type": "code",
        "colab": {}
      },
      "source": [
        "# Testing Random Forest\n",
        "images = test(testingPath,resize_image_size,rfc)"
      ],
      "execution_count": null,
      "outputs": []
    },
    {
      "cell_type": "code",
      "metadata": {
        "id": "5PJRHNjxgWGk",
        "colab_type": "code",
        "colab": {}
      },
      "source": [
        "# Testing KNN\n",
        "images = test(testingPath,resize_image_size,knn)"
      ],
      "execution_count": null,
      "outputs": []
    },
    {
      "cell_type": "code",
      "metadata": {
        "id": "WzaJPFkvjnm9",
        "colab_type": "code",
        "colab": {}
      },
      "source": [
        "# Testing MLC\n",
        "images = test(testingPath,resize_image_size,mlc)"
      ],
      "execution_count": null,
      "outputs": []
    },
    {
      "cell_type": "markdown",
      "metadata": {
        "id": "ph_0KnfI42zY",
        "colab_type": "text"
      },
      "source": [
        "# Using HOG 300"
      ]
    },
    {
      "cell_type": "code",
      "metadata": {
        "id": "mIbi6APr5AAZ",
        "colab_type": "code",
        "colab": {}
      },
      "source": [
        "resize_image_size = 300\n",
        "extraction_method = 'hog'\n",
        "\n",
        "(feature_train, label_train) = load_split(path = trainingPath, image_size= resize_image_size, extraction_method = extraction_method)\n",
        "(feature_test, label_test) = load_split(path = testingPath, image_size= resize_image_size, extraction_method = extraction_method)\n",
        "\n",
        "print(\"Data loaded!\")\n",
        "le = LabelEncoder()\n",
        "label_train = le.fit_transform(label_train)\n",
        "label_test = le.transform(label_test)\n"
      ],
      "execution_count": null,
      "outputs": []
    },
    {
      "cell_type": "code",
      "metadata": {
        "id": "VgzpOkwc5HYN",
        "colab_type": "code",
        "colab": {}
      },
      "source": [
        "print(label_train)\n",
        "print(label_test)"
      ],
      "execution_count": null,
      "outputs": []
    },
    {
      "cell_type": "markdown",
      "metadata": {
        "id": "gFtLfv2i5THM",
        "colab_type": "text"
      },
      "source": [
        "## Training"
      ]
    },
    {
      "cell_type": "code",
      "metadata": {
        "id": "tNfHyKJUPZyl",
        "colab_type": "code",
        "colab": {}
      },
      "source": [
        "logreg = logistic_regression(feature_train,label_train,feature_test,label_test)\n",
        "svc = linear_svc(feature_train,label_train,feature_test,label_test)\n",
        "rfc = random_forest(feature_train,label_train,feature_test,label_test)\n",
        "knn = KNN(feature_train,label_train,feature_test,label_test)\n",
        "mlc = MLP(feature_train,label_train,feature_test,label_test)\n"
      ],
      "execution_count": null,
      "outputs": []
    },
    {
      "cell_type": "markdown",
      "metadata": {
        "id": "9CaR2A1b52eI",
        "colab_type": "text"
      },
      "source": [
        "## Testing"
      ]
    },
    {
      "cell_type": "code",
      "metadata": {
        "id": "riIl_K2A54fA",
        "colab_type": "code",
        "colab": {}
      },
      "source": [
        "# Testing Logistic Regression\n",
        "images = test(testingPath,resize_image_size,logreg)"
      ],
      "execution_count": null,
      "outputs": []
    },
    {
      "cell_type": "code",
      "metadata": {
        "id": "rgBg5MH85_PU",
        "colab_type": "code",
        "colab": {}
      },
      "source": [
        "# Testing SVC\n",
        "images = test(testingPath,resize_image_size,svc)"
      ],
      "execution_count": null,
      "outputs": []
    },
    {
      "cell_type": "code",
      "metadata": {
        "id": "9sQInU0g6CVz",
        "colab_type": "code",
        "colab": {}
      },
      "source": [
        "# Testing Random Forest\n",
        "images = test(testingPath,resize_image_size,rfc)"
      ],
      "execution_count": null,
      "outputs": []
    },
    {
      "cell_type": "code",
      "metadata": {
        "id": "z7WOh-k2glg1",
        "colab_type": "code",
        "colab": {}
      },
      "source": [
        "# Testing KNN\n",
        "images = test(testingPath,resize_image_size,knn)"
      ],
      "execution_count": null,
      "outputs": []
    },
    {
      "cell_type": "code",
      "metadata": {
        "id": "1TbMturag2c0",
        "colab_type": "code",
        "colab": {}
      },
      "source": [
        "# Testing MLC\n",
        "images = test(testingPath,resize_image_size,mlc)"
      ],
      "execution_count": null,
      "outputs": []
    },
    {
      "cell_type": "markdown",
      "metadata": {
        "id": "EqkCq_Nt7Dw1",
        "colab_type": "text"
      },
      "source": [
        "# Using LBP 128"
      ]
    },
    {
      "cell_type": "code",
      "metadata": {
        "id": "3Gjo-Gmm7H1q",
        "colab_type": "code",
        "colab": {}
      },
      "source": [
        "resize_image_size = 128\n",
        "extraction_method = 'lbp'\n",
        "\n",
        "(feature_train, label_train) = load_split(path = trainingPath, image_size= resize_image_size, extraction_method = extraction_method)\n",
        "(feature_test, label_test) = load_split(path = testingPath, image_size= resize_image_size, extraction_method = extraction_method)\n",
        "\n",
        "print(\"Data loaded!\")\n",
        "le = LabelEncoder()\n",
        "label_train = le.fit_transform(label_train)\n",
        "label_test = le.transform(label_test)"
      ],
      "execution_count": null,
      "outputs": []
    },
    {
      "cell_type": "code",
      "metadata": {
        "id": "2_L9mKpm7VOh",
        "colab_type": "code",
        "colab": {}
      },
      "source": [
        "print(label_train)\n",
        "print(label_test)"
      ],
      "execution_count": null,
      "outputs": []
    },
    {
      "cell_type": "markdown",
      "metadata": {
        "id": "BfGFzto_7a03",
        "colab_type": "text"
      },
      "source": [
        "## Training"
      ]
    },
    {
      "cell_type": "code",
      "metadata": {
        "id": "eRerQKeuPrlQ",
        "colab_type": "code",
        "colab": {}
      },
      "source": [
        "logreg = logistic_regression(feature_train,label_train,feature_test,label_test)\n",
        "svc = linear_svc(feature_train,label_train,feature_test,label_test)\n",
        "rfc = random_forest(feature_train,label_train,feature_test,label_test)\n",
        "knn = KNN(feature_train,label_train,feature_test,label_test)\n",
        "mlc = MLP(feature_train,label_train,feature_test,label_test)"
      ],
      "execution_count": null,
      "outputs": []
    },
    {
      "cell_type": "markdown",
      "metadata": {
        "id": "G6dma8HP_P8D",
        "colab_type": "text"
      },
      "source": [
        "## Testing "
      ]
    },
    {
      "cell_type": "code",
      "metadata": {
        "id": "rxVYSUIn_XXL",
        "colab_type": "code",
        "colab": {}
      },
      "source": [
        "# Testing logreg\n",
        "images = test(testingPath,resize_image_size,logreg)"
      ],
      "execution_count": null,
      "outputs": []
    },
    {
      "cell_type": "code",
      "metadata": {
        "id": "XSQhUYfR_YS8",
        "colab_type": "code",
        "colab": {}
      },
      "source": [
        "# Testing SVC\n",
        "images = test(testingPath,resize_image_size,svc)"
      ],
      "execution_count": null,
      "outputs": []
    },
    {
      "cell_type": "code",
      "metadata": {
        "id": "P4a_cekP_xR5",
        "colab_type": "code",
        "colab": {}
      },
      "source": [
        "# Testing Random Forest\n",
        "images = test(testingPath,resize_image_size,rfc)"
      ],
      "execution_count": null,
      "outputs": []
    },
    {
      "cell_type": "code",
      "metadata": {
        "id": "gx3k1FRVgqj6",
        "colab_type": "code",
        "colab": {}
      },
      "source": [
        "# Testing KNN\n",
        "images = test(testingPath,resize_image_size,knn)"
      ],
      "execution_count": null,
      "outputs": []
    },
    {
      "cell_type": "code",
      "metadata": {
        "id": "q2A3ukT7g4ZK",
        "colab_type": "code",
        "colab": {}
      },
      "source": [
        "# Testing MLC\n",
        "images = test(testingPath,resize_image_size,mlc)"
      ],
      "execution_count": null,
      "outputs": []
    },
    {
      "cell_type": "markdown",
      "metadata": {
        "id": "-nAkO0a4Q7hP",
        "colab_type": "text"
      },
      "source": [
        "# Using LBP 300"
      ]
    },
    {
      "cell_type": "code",
      "metadata": {
        "id": "RAFV-RTUQ_sG",
        "colab_type": "code",
        "colab": {}
      },
      "source": [
        "resize_image_size = 300\n",
        "extraction_method = 'lbp'\n",
        "\n",
        "(feature_train, label_train) = load_split(path = trainingPath, image_size= resize_image_size, extraction_method = extraction_method)\n",
        "(feature_test, label_test) = load_split(path = testingPath, image_size= resize_image_size, extraction_method = extraction_method)\n",
        "\n",
        "print(\"Data loaded!\")\n",
        "le = LabelEncoder()\n",
        "label_train = le.fit_transform(label_train)\n",
        "label_test = le.transform(label_test)"
      ],
      "execution_count": null,
      "outputs": []
    },
    {
      "cell_type": "code",
      "metadata": {
        "id": "0aJTU7RrRJqh",
        "colab_type": "code",
        "colab": {}
      },
      "source": [
        "print(label_train)\n",
        "print(label_test)"
      ],
      "execution_count": null,
      "outputs": []
    },
    {
      "cell_type": "markdown",
      "metadata": {
        "id": "m8Uod38WRIiD",
        "colab_type": "text"
      },
      "source": [
        "## Training"
      ]
    },
    {
      "cell_type": "code",
      "metadata": {
        "id": "hmtQ8G_dRQV-",
        "colab_type": "code",
        "colab": {}
      },
      "source": [
        "logreg = logistic_regression(feature_train,label_train,feature_test,label_test)\n",
        "svc = linear_svc(feature_train,label_train,feature_test,label_test)\n",
        "rfc = random_forest(feature_train,label_train,feature_test,label_test)\n",
        "knn = KNN(feature_train,label_train,feature_test,label_test)\n",
        "mlc = MLP(feature_train,label_train,feature_test,label_test)"
      ],
      "execution_count": null,
      "outputs": []
    },
    {
      "cell_type": "markdown",
      "metadata": {
        "id": "Cb6ZYAjbRT1U",
        "colab_type": "text"
      },
      "source": [
        "## Testing"
      ]
    },
    {
      "cell_type": "code",
      "metadata": {
        "id": "hnuH7f_4RVjI",
        "colab_type": "code",
        "colab": {}
      },
      "source": [
        "# Testing Logistic Regression\n",
        "images = test(testingPath,resize_image_size,logreg)"
      ],
      "execution_count": null,
      "outputs": []
    },
    {
      "cell_type": "code",
      "metadata": {
        "id": "Y8yr68WaRY29",
        "colab_type": "code",
        "colab": {}
      },
      "source": [
        "# Testing SVC\n",
        "images = test(testingPath,resize_image_size,svc)"
      ],
      "execution_count": null,
      "outputs": []
    },
    {
      "cell_type": "code",
      "metadata": {
        "id": "cvp-Hkr3RgZq",
        "colab_type": "code",
        "colab": {}
      },
      "source": [
        "# Testing Random Forest\n",
        "images = test(testingPath,resize_image_size,rfc)"
      ],
      "execution_count": null,
      "outputs": []
    },
    {
      "cell_type": "code",
      "metadata": {
        "id": "ZV-rL5AwgoRY",
        "colab_type": "code",
        "colab": {}
      },
      "source": [
        "# Testing KNN\n",
        "images = test(testingPath,resize_image_size,knn)"
      ],
      "execution_count": null,
      "outputs": []
    },
    {
      "cell_type": "code",
      "metadata": {
        "id": "zHa2S3L9g6JX",
        "colab_type": "code",
        "colab": {}
      },
      "source": [
        "# Testing MLC\n",
        "images = test(testingPath,resize_image_size,mlc)"
      ],
      "execution_count": null,
      "outputs": []
    },
    {
      "cell_type": "markdown",
      "metadata": {
        "id": "hNAYmt4hk10Y",
        "colab_type": "text"
      },
      "source": [
        "# Kesimpulan\n",
        "HOG 128 dgn KNN(11) menghasilkan akurasi 83%\n",
        "\n",
        "HOG 300 dgn LinearSVC menghasilkan akurasi 73%\n",
        "\n",
        "LBP 128 dgn KNN(11) menghasilkan akurasi 60%\n",
        "\n",
        "LBP 300 dgn RandomForest menghasilkan akurasi 70%\n",
        "\n",
        "Dapat disimpulkan bahwa ukuran citra yang digunakan tidak banyak mempengaruhi\n",
        "hasil prediksi suatu algoritma. yang menentukan adalah bagaimana suatu fitur pada citra itu dapat diekstraksi, sehingga algoritma dapat mempelajari dan mengenali fitur dengan baik"
      ]
    },
    {
      "cell_type": "markdown",
      "metadata": {
        "id": "oibU6UM2k5sI",
        "colab_type": "text"
      },
      "source": [
        "# Menambahkan data"
      ]
    },
    {
      "cell_type": "markdown",
      "metadata": {
        "id": "tHYXteIYQf54",
        "colab_type": "text"
      },
      "source": [
        "## Data Sehat"
      ]
    },
    {
      "cell_type": "code",
      "metadata": {
        "id": "-5zDd_9alJno",
        "colab_type": "code",
        "colab": {}
      },
      "source": [
        "sehat = cv.imread('/content/drive/My Drive/IMG_20200925_130819.jpg')\n",
        "cv2_imshow(sehat)"
      ],
      "execution_count": null,
      "outputs": []
    },
    {
      "cell_type": "code",
      "metadata": {
        "id": "Mzmc0yuJ6-bB",
        "colab_type": "code",
        "colab": {}
      },
      "source": [
        "sehat1 = cv.cvtColor(sehat,cv.COLOR_BGR2GRAY)\n",
        "cv2_imshow(sehat1)\n",
        "sehat1 = cv.equalizeHist(sehat1)"
      ],
      "execution_count": null,
      "outputs": []
    },
    {
      "cell_type": "code",
      "metadata": {
        "id": "XG7tizJi7UlR",
        "colab_type": "code",
        "colab": {}
      },
      "source": [
        " sehat1 = cv.medianBlur(sehat1,3)\n",
        " cv2_imshow(sehat1)"
      ],
      "execution_count": null,
      "outputs": []
    },
    {
      "cell_type": "code",
      "metadata": {
        "id": "4oaUTbZn9Dc6",
        "colab_type": "code",
        "colab": {}
      },
      "source": [
        "threshold_value, threshold_result = cv.threshold(sehat1, 3, 255, cv.THRESH_BINARY_INV) \n",
        "cv2_imshow(threshold_result)"
      ],
      "execution_count": null,
      "outputs": []
    },
    {
      "cell_type": "code",
      "metadata": {
        "id": "2gWotmUy-sda",
        "colab_type": "code",
        "colab": {}
      },
      "source": [
        "\n",
        "sehat2 = cv.dilate(threshold_result,np.ones((5,5),np.uint8),iterations = 5)\n",
        "cv2_imshow(sehat2)"
      ],
      "execution_count": null,
      "outputs": []
    },
    {
      "cell_type": "code",
      "metadata": {
        "id": "zd9CMR_pBCpa",
        "colab_type": "code",
        "colab": {}
      },
      "source": [
        "contours, hierarchy = cv.findContours(sehat2, cv.RETR_EXTERNAL, cv.CHAIN_APPROX_SIMPLE)\n",
        "area_array=[]\n",
        "for index,contour in enumerate(contours):\n",
        "  x,y,w,h = cv.boundingRect(contour)\n",
        "  area = cv.contourArea(contour)\n",
        "  area_array.append([index,area,w,h])\n",
        "\n",
        "df_area =pd.DataFrame(area_array)\n",
        "df_area.columns =['index','area','width','height']\n",
        "df_sort=df_area.sort_values(by=['area'],ascending=False)\n",
        "df_sort.head(50)\n"
      ],
      "execution_count": null,
      "outputs": []
    },
    {
      "cell_type": "code",
      "metadata": {
        "id": "ksZPuhpdDV3W",
        "colab_type": "code",
        "colab": {}
      },
      "source": [
        "test = df_area['area']\n",
        "array=[]\n",
        "directory_save = '/content/drive/My Drive/Colab Notebooks/parkinsons/wave/training/healthy'\n",
        "\n",
        "for i,va in enumerate(test):\n",
        "  if test[i] > 50000:\n",
        "    array.append(i)\n",
        "\n",
        "array.sort()\n",
        "print(array)\n",
        "os.chdir(directory_save)\n",
        "\n",
        "for i, va in enumerate(array):\n",
        "  x,y,w,h =cv.boundingRect(contours[va])\n",
        "  wave= sehat[y:y+h, x:x+w]\n",
        "  resized= cv.resize(wave,(512,220),interpolation = cv.INTER_AREA)\n",
        "  cv.imwrite('wave{}.png'.format(i),resized)\n",
        "\n",
        "print(os.listdir(directory_save))"
      ],
      "execution_count": null,
      "outputs": []
    },
    {
      "cell_type": "markdown",
      "metadata": {
        "id": "pzDIm_7vQmTH",
        "colab_type": "text"
      },
      "source": [
        "## Data Parkinson"
      ]
    },
    {
      "cell_type": "code",
      "metadata": {
        "id": "Og836a7GIreR",
        "colab_type": "code",
        "colab": {}
      },
      "source": [
        "sakit = cv.imread('/content/drive/My Drive/IMG_20200925_130639.jpg')\n",
        "cv2_imshow(sakit)"
      ],
      "execution_count": null,
      "outputs": []
    },
    {
      "cell_type": "code",
      "metadata": {
        "id": "iJMzrkBPJBCX",
        "colab_type": "code",
        "colab": {}
      },
      "source": [
        "sakit1 = cv.cvtColor(sakit,cv.COLOR_BGR2GRAY)\n",
        "cv2_imshow(sakit1)\n",
        "sakit1 = cv.equalizeHist(sakit1)"
      ],
      "execution_count": null,
      "outputs": []
    },
    {
      "cell_type": "code",
      "metadata": {
        "id": "hFq3SjdpJzqx",
        "colab_type": "code",
        "colab": {}
      },
      "source": [
        " sakit1 = cv.medianBlur(sakit1,3)\n",
        " cv2_imshow(sakit1)"
      ],
      "execution_count": null,
      "outputs": []
    },
    {
      "cell_type": "code",
      "metadata": {
        "id": "RrDTqjfRKHC4",
        "colab_type": "code",
        "colab": {}
      },
      "source": [
        "threshold_value, threshold_result = cv.threshold(sakit1, 5, 255, cv.THRESH_BINARY_INV) \n",
        "cv2_imshow(threshold_result)"
      ],
      "execution_count": null,
      "outputs": []
    },
    {
      "cell_type": "code",
      "metadata": {
        "id": "L-YaQz4QKTe8",
        "colab_type": "code",
        "colab": {}
      },
      "source": [
        "erosion = cv.erode(threshold_result,np.ones((1,1),np.uint8),iterations =1)\n",
        "cv2_imshow(erosion)\n",
        "sakit2 = cv.dilate(erosion,np.ones((5,5),np.uint8),iterations = 7)\n",
        "cv2_imshow(sakit2)"
      ],
      "execution_count": null,
      "outputs": []
    },
    {
      "cell_type": "code",
      "metadata": {
        "id": "hyBJFwbyL9Hy",
        "colab_type": "code",
        "colab": {}
      },
      "source": [
        "contours, hierarchy = cv.findContours(sakit2, cv.RETR_EXTERNAL, cv.CHAIN_APPROX_SIMPLE)\n",
        "area_array=[]\n",
        "for index,contour in enumerate(contours):\n",
        "  x,y,w,h = cv.boundingRect(contour)\n",
        "  area = cv.contourArea(contour)\n",
        "  area_array.append([index,area,w,h])\n",
        "\n",
        "df_area =pd.DataFrame(area_array)\n",
        "df_area.columns =['index','area','width','height']\n",
        "df_sort=df_area.sort_values(by=['area'],ascending=False)\n",
        "df_sort.head(50)"
      ],
      "execution_count": null,
      "outputs": []
    },
    {
      "cell_type": "code",
      "metadata": {
        "id": "HgyZvdnHMKRe",
        "colab_type": "code",
        "colab": {}
      },
      "source": [
        "test = df_area['area']\n",
        "array=[]\n",
        "directory_save = '/content/drive/My Drive/Colab Notebooks/parkinsons/wave/training/parkinson'\n",
        "\n",
        "for i,va in enumerate(test):\n",
        "  if test[i] > 80000:\n",
        "    array.append(i)\n",
        "\n",
        "array.sort()\n",
        "print(array)\n",
        "os.chdir(directory_save)\n",
        "\n",
        "for i, va in enumerate(array):\n",
        "  x,y,w,h =cv.boundingRect(contours[va])\n",
        "  wave= sakit[y:y+h, x:x+w]\n",
        "  \n",
        "  resized= cv.resize(wave,(512,220),interpolation = cv.INTER_AREA)\n",
        "  cv.imwrite('wave{}.png'.format(i),resized)\n",
        "\n",
        "print(os.listdir(directory_save))"
      ],
      "execution_count": null,
      "outputs": []
    },
    {
      "cell_type": "markdown",
      "metadata": {
        "id": "mwUWIwZXQtlu",
        "colab_type": "text"
      },
      "source": [
        "## Load data baru"
      ]
    },
    {
      "cell_type": "code",
      "metadata": {
        "id": "ktV9AGVPPS8P",
        "colab_type": "code",
        "colab": {}
      },
      "source": [
        "dataset_dir = '/content/drive/My Drive/Colab Notebooks/parkinsons/wave'\n",
        "\n",
        "trainingPath = os.path.join(dataset_dir, \"training\")\n",
        "testingPath = os.path.join(dataset_dir, \"testing\")\n",
        "\n",
        "print(trainingPath)\n",
        "print(testingPath)"
      ],
      "execution_count": null,
      "outputs": []
    },
    {
      "cell_type": "code",
      "metadata": {
        "id": "D0z98hRRPVj6",
        "colab_type": "code",
        "colab": {}
      },
      "source": [
        "resize_image_size = 128\n",
        "extraction_method = 'hog'\n",
        "\n",
        "(feature_train, label_train) = load_split(path = trainingPath, image_size= resize_image_size, extraction_method = extraction_method)\n",
        "(feature_test, label_test) = load_split(path = testingPath, image_size= resize_image_size, extraction_method = extraction_method)\n",
        "\n",
        "print(\"Data loaded!\")\n",
        "le = LabelEncoder()\n",
        "label_train = le.fit_transform(label_train)\n",
        "label_test = le.transform(label_test)"
      ],
      "execution_count": null,
      "outputs": []
    },
    {
      "cell_type": "markdown",
      "metadata": {
        "id": "XQJhRjw6Q7Mr",
        "colab_type": "text"
      },
      "source": [
        "## Training"
      ]
    },
    {
      "cell_type": "code",
      "metadata": {
        "id": "nwmICQNEPogC",
        "colab_type": "code",
        "colab": {}
      },
      "source": [
        "logreg = logistic_regression(feature_train,label_train,feature_test,label_test)\n",
        "svc = linear_svc(feature_train,label_train,feature_test,label_test)\n",
        "rfc = random_forest(feature_train,label_train,feature_test,label_test)\n",
        "knn = KNN(feature_train,label_train,feature_test,label_test)\n",
        "mlc = MLP(feature_train,label_train,feature_test,label_test)"
      ],
      "execution_count": null,
      "outputs": []
    },
    {
      "cell_type": "markdown",
      "metadata": {
        "id": "4INGANWfQ_RX",
        "colab_type": "text"
      },
      "source": [
        "## Testing"
      ]
    },
    {
      "cell_type": "code",
      "metadata": {
        "id": "wVvSX5tCQ17E",
        "colab_type": "code",
        "colab": {}
      },
      "source": [
        "# Testing Logistic Regression\n",
        "images = test(testingPath,resize_image_size,logreg)"
      ],
      "execution_count": null,
      "outputs": []
    },
    {
      "cell_type": "code",
      "metadata": {
        "id": "2cRsHzlIQ3QY",
        "colab_type": "code",
        "colab": {}
      },
      "source": [
        "# Testing SVC\n",
        "images = test(testingPath,resize_image_size,svc)"
      ],
      "execution_count": null,
      "outputs": []
    },
    {
      "cell_type": "code",
      "metadata": {
        "id": "Lhn02t9aQ3nC",
        "colab_type": "code",
        "colab": {}
      },
      "source": [
        "# Testing Random Forest\n",
        "images = test(testingPath,resize_image_size,rfc)"
      ],
      "execution_count": null,
      "outputs": []
    },
    {
      "cell_type": "code",
      "metadata": {
        "id": "cFOlVrJkQ4ME",
        "colab_type": "code",
        "colab": {}
      },
      "source": [
        "# Testing KNN\n",
        "images = test(testingPath,resize_image_size,knn)"
      ],
      "execution_count": null,
      "outputs": []
    },
    {
      "cell_type": "code",
      "metadata": {
        "id": "UJNJfbkMQ4cn",
        "colab_type": "code",
        "colab": {}
      },
      "source": [
        "# Testing MLC\n",
        "images = test(testingPath,resize_image_size,mlc)"
      ],
      "execution_count": null,
      "outputs": []
    },
    {
      "cell_type": "markdown",
      "metadata": {
        "id": "yZFUSARmR9uj",
        "colab_type": "text"
      },
      "source": [
        "#Kesimpulan\n",
        "Bahwa dengan menambahkan data gambar baru pada dataset dapat mempengaruhi hasil prediksi algoritma.\n",
        "\n",
        "Pada hampir semua algoritma yang digunakan mengalami kenaikan score akurasi prediksi, kecuali pada RandomForest yang justru turun.\n",
        "\n",
        "semakin banyak data yang digunakan untuk training maka algoritma dapat semakin banyak mempelajari variasi  fitur-fitur, sehingga tidak terjadi overfitting terhadap data latih dan akan dapat memprediksi data lain yang lebih kompleks"
      ]
    }
  ]
}