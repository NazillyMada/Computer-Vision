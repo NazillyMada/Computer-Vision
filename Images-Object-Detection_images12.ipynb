{
  "nbformat": 4,
  "nbformat_minor": 0,
  "metadata": {
    "colab": {
      "name": "Assignment#12.ipynb",
      "provenance": [],
      "collapsed_sections": [
        "xPwfDdLo4fj_",
        "lvXCxk9757IA",
        "n-SWydvH_aMU",
        "T3CAk7ABCon0",
        "GMFWfPVuJs6s",
        "3-wGdQCIWi4d"
      ]
    },
    "kernelspec": {
      "name": "python3",
      "display_name": "Python 3"
    }
  },
  "cells": [
    {
      "cell_type": "code",
      "metadata": {
        "id": "mksHYtYWaDKE",
        "colab_type": "code",
        "colab": {}
      },
      "source": [
        "import cv2 as cv2\n",
        "from google.colab.patches import cv2_imshow\n",
        "import matplotlib.pyplot as plt\n",
        "import numpy as np"
      ],
      "execution_count": null,
      "outputs": []
    },
    {
      "cell_type": "code",
      "metadata": {
        "id": "ckXLnj8uaRxx",
        "colab_type": "code",
        "colab": {}
      },
      "source": [
        "image1 = cv2.imread('/content/drive/My Drive/Colab Notebooks/images12/1-min.png')\n",
        "image2 = cv2.imread('/content/drive/My Drive/Colab Notebooks/images12/2-min.png')\n",
        "image3 = cv2.imread('/content/drive/My Drive/Colab Notebooks/images12/3-min.png')\n",
        "image4 = cv2.imread('/content/drive/My Drive/Colab Notebooks/images12/4-min.png')\n",
        "image5 = cv2.imread('/content/drive/My Drive/Colab Notebooks/images12/5-min.png')\n",
        "image6 = cv2.imread('/content/drive/My Drive/Colab Notebooks/images12/6-min.png')\n"
      ],
      "execution_count": null,
      "outputs": []
    },
    {
      "cell_type": "code",
      "metadata": {
        "id": "tTtBOeKIfvJN",
        "colab_type": "code",
        "colab": {}
      },
      "source": [
        "gray1=cv2.cvtColor(image1, cv2.COLOR_BGR2GRAY)\n",
        "gray2=cv2.cvtColor(image2, cv2.COLOR_BGR2GRAY)\n",
        "gray3=cv2.cvtColor(image3, cv2.COLOR_BGR2GRAY)\n",
        "gray4=cv2.cvtColor(image4, cv2.COLOR_BGR2GRAY)\n",
        "gray5=cv2.cvtColor(image5, cv2.COLOR_BGR2GRAY)\n",
        "gray6=cv2.cvtColor(image6, cv2.COLOR_BGR2GRAY)\n",
        "\n",
        "equalized1 = cv2.equalizeHist(gray1)\n",
        "equalized2 = cv2.equalizeHist(gray2)\n",
        "equalized3 = cv2.equalizeHist(gray3)\n",
        "equalized4 = cv2.equalizeHist(gray4)\n",
        "equalized5 = cv2.equalizeHist(gray5)\n",
        "equalized6 = cv2.equalizeHist(gray6)\n",
        "\n",
        "fig = plt.figure(figsize=(15,10))\n",
        "ax = fig.add_subplot(2, 3, 1)\n",
        "imgplot = plt.hist(gray1.flatten(), 256, [0,256])\n",
        "ax = fig.add_subplot(2, 3, 2)\n",
        "imgplot = plt.hist(gray2.flatten(), 256, [0,256])\n",
        "ax = fig.add_subplot(2, 3, 3)\n",
        "imgplot = plt.hist(gray3.flatten(), 256, [0,256])\n",
        "ax = fig.add_subplot(2, 3, 4)\n",
        "imgplot = plt.hist(gray4.flatten(), 256, [0,256])\n",
        "ax = fig.add_subplot(2, 3, 5)\n",
        "imgplot = plt.hist(gray5.flatten(), 256, [0,256])\n",
        "ax = fig.add_subplot(2, 3, 6)\n",
        "imgplot = plt.hist(gray6.flatten(), 256, [0,256])\n",
        "\n",
        "fig = plt.figure(figsize=(15,10))\n",
        "ax = fig.add_subplot(2, 3, 1)\n",
        "imgplot = plt.hist(equalized1.flatten(), 256, [0,256])\n",
        "ax = fig.add_subplot(2, 3, 2)\n",
        "imgplot = plt.hist(equalized2.flatten(), 256, [0,256])\n",
        "ax = fig.add_subplot(2, 3, 3)\n",
        "imgplot = plt.hist(equalized3.flatten(), 256, [0,256])\n",
        "ax = fig.add_subplot(2, 3, 4)\n",
        "imgplot = plt.hist(equalized4.flatten(), 256, [0,256])\n",
        "ax = fig.add_subplot(2, 3, 5)\n",
        "imgplot = plt.hist(equalized5.flatten(), 256, [0,256])\n",
        "ax = fig.add_subplot(2, 3, 6)\n",
        "imgplot = plt.hist(equalized6.flatten(), 256, [0,256])\n"
      ],
      "execution_count": null,
      "outputs": []
    },
    {
      "cell_type": "markdown",
      "metadata": {
        "id": "xPwfDdLo4fj_",
        "colab_type": "text"
      },
      "source": [
        "# Citra 1"
      ]
    },
    {
      "cell_type": "code",
      "metadata": {
        "id": "GFLtfbN7jYFN",
        "colab_type": "code",
        "colab": {}
      },
      "source": [
        "threshold_value, threshold_result = cv2.threshold(equalized1, 80, 255, cv2.THRESH_BINARY)\n",
        "img_concate_Hori1=np.concatenate((equalized1,threshold_result),axis=1)\n",
        "cv2_imshow(img_concate_Hori1)\n",
        "\n",
        "threshold_value, threshold_result2 = cv2.threshold(gray1, 100, 255, cv2.THRESH_BINARY)\n",
        "img_concate_Hori2=np.concatenate((gray1,threshold_result2),axis=1)\n",
        "cv2_imshow(img_concate_Hori2)\n",
        "\n",
        "result= cv2.bitwise_not(threshold_result2)\n",
        "cv2_imshow(result)"
      ],
      "execution_count": null,
      "outputs": []
    },
    {
      "cell_type": "code",
      "metadata": {
        "id": "LHqI4DxQmBI5",
        "colab_type": "code",
        "colab": {}
      },
      "source": [
        "erosion = cv2.erode(result,np.ones((3,3),np.uint8),iterations = 2)\n",
        "closing = cv2.morphologyEx(erosion, cv2.MORPH_CLOSE, np.ones((11,11),np.uint8),iterations=7)\n",
        "img_concate_result=np.concatenate((erosion,closing),axis=1)\n",
        "cv2_imshow(img_concate_result)"
      ],
      "execution_count": null,
      "outputs": []
    },
    {
      "cell_type": "code",
      "metadata": {
        "id": "kWlewhzAv4PN",
        "colab_type": "code",
        "colab": {}
      },
      "source": [
        "contours, hierarchy = cv2.findContours(closing, cv2.RETR_EXTERNAL, cv2.CHAIN_APPROX_SIMPLE)\n",
        "print(contours)\n",
        "len(contours)"
      ],
      "execution_count": null,
      "outputs": []
    },
    {
      "cell_type": "code",
      "metadata": {
        "id": "x2inwUC6wNqi",
        "colab_type": "code",
        "colab": {}
      },
      "source": [
        "for index, contour in enumerate(contours):\n",
        "  x, y, w, h = cv2.boundingRect(contour)\n",
        "  area = cv2.contourArea(contour)\n",
        "\n",
        "  print(\"Contour #\" + str(index), x, y, w, h, area)"
      ],
      "execution_count": null,
      "outputs": []
    },
    {
      "cell_type": "code",
      "metadata": {
        "id": "ritNTAyCwf_m",
        "colab_type": "code",
        "colab": {}
      },
      "source": [
        "x, y, w, h = cv2.boundingRect(contours[1])\n",
        "\n",
        "batman = image1[y:y+h, x:x+w]\n",
        "cv2_imshow(batman)\n",
        "cv2.rectangle(image1, (x,y), (x+w,y+h), (0,255,0), 2)\n",
        "cv2.putText(image1, 'widht :'+str(w)+' '+'height :'+str(h), (x,y-10), cv2.FONT_HERSHEY_SIMPLEX, 0.6, (0,255,0), 2)\n",
        "cv2_imshow(image1)"
      ],
      "execution_count": null,
      "outputs": []
    },
    {
      "cell_type": "markdown",
      "metadata": {
        "id": "lvXCxk9757IA",
        "colab_type": "text"
      },
      "source": [
        "# Citra 2"
      ]
    },
    {
      "cell_type": "code",
      "metadata": {
        "id": "m71vm7qU59BP",
        "colab_type": "code",
        "colab": {}
      },
      "source": [
        "threshold_value, threshold_result_2 = cv2.threshold(equalized2, 98, 255, cv2.THRESH_BINARY)\n",
        "img_concate_Hori1=np.concatenate((equalized2,threshold_result_2),axis=1)\n",
        "cv2_imshow(img_concate_Hori1)\n",
        "\n",
        "threshold_value, threshold_result2_2 = cv2.threshold(gray2, 88, 255, cv2.THRESH_BINARY)\n",
        "img_concate_Hori2=np.concatenate((gray2,threshold_result2_2),axis=1)\n",
        "cv2_imshow(img_concate_Hori2)\n",
        "\n",
        "result= cv2.bitwise_not(threshold_result2_2)\n",
        "cv2_imshow(result)"
      ],
      "execution_count": null,
      "outputs": []
    },
    {
      "cell_type": "code",
      "metadata": {
        "id": "CNrBifw380cR",
        "colab_type": "code",
        "colab": {}
      },
      "source": [
        "erosion = cv2.erode(result,np.ones((3,3),np.uint8),iterations = 1)\n",
        "closing = cv2.morphologyEx(erosion, cv2.MORPH_CLOSE, np.ones((7,7),np.uint8),iterations=10)\n",
        "img_concate_result=np.concatenate((erosion,closing),axis=1)\n",
        "cv2_imshow(img_concate_result)"
      ],
      "execution_count": null,
      "outputs": []
    },
    {
      "cell_type": "code",
      "metadata": {
        "id": "81XSFMEF-V99",
        "colab_type": "code",
        "colab": {}
      },
      "source": [
        "contours, hierarchy = cv2.findContours(closing, cv2.RETR_EXTERNAL, cv2.CHAIN_APPROX_SIMPLE)\n",
        "print(contours)\n",
        "len(contours)"
      ],
      "execution_count": null,
      "outputs": []
    },
    {
      "cell_type": "code",
      "metadata": {
        "id": "Z9GLriN0-bZ3",
        "colab_type": "code",
        "colab": {}
      },
      "source": [
        "for index, contour in enumerate(contours):\n",
        "  x, y, w, h = cv2.boundingRect(contour)\n",
        "  area = cv2.contourArea(contour)\n",
        "\n",
        "  print(\"Contour #\" + str(index), x, y, w, h, area)"
      ],
      "execution_count": null,
      "outputs": []
    },
    {
      "cell_type": "code",
      "metadata": {
        "id": "7XOkG2Ka-fbv",
        "colab_type": "code",
        "colab": {}
      },
      "source": [
        "x, y, w, h = cv2.boundingRect(contours[0])\n",
        "\n",
        "starwars = image2[y:y+h, x:x+w]\n",
        "cv2_imshow(starwars)\n",
        "cv2.rectangle(image2, (x,y), (x+w,y+h), (0,255,0), 2)\n",
        "cv2.putText(image2, 'widht :'+str(w)+' '+'height :'+str(h), (x,y-10), cv2.FONT_HERSHEY_SIMPLEX, 0.6, (0,255,0), 2)\n",
        "cv2_imshow(image2)"
      ],
      "execution_count": null,
      "outputs": []
    },
    {
      "cell_type": "markdown",
      "metadata": {
        "id": "n-SWydvH_aMU",
        "colab_type": "text"
      },
      "source": [
        "# Citra 3"
      ]
    },
    {
      "cell_type": "code",
      "metadata": {
        "id": "C_nEu097_ciB",
        "colab_type": "code",
        "colab": {}
      },
      "source": [
        "threshold_value, threshold_result_3 = cv2.threshold(equalized3, 75, 255, cv2.THRESH_BINARY)\n",
        "img_concate_Hori1=np.concatenate((equalized3,threshold_result_3),axis=1)\n",
        "cv2_imshow(img_concate_Hori1)\n",
        "\n",
        "threshold_value, threshold_result2_3 = cv2.threshold(gray3, 100, 255, cv2.THRESH_BINARY)\n",
        "img_concate_Hori2=np.concatenate((gray3,threshold_result2_3),axis=1)\n",
        "cv2_imshow(img_concate_Hori2)\n",
        "\n",
        "result= cv2.bitwise_not(threshold_result_3)\n",
        "cv2_imshow(result)"
      ],
      "execution_count": null,
      "outputs": []
    },
    {
      "cell_type": "code",
      "metadata": {
        "id": "8O18JMikAncb",
        "colab_type": "code",
        "colab": {}
      },
      "source": [
        "erosion = cv2.erode(result,np.ones((3,3),np.uint8),iterations = 3)\n",
        "closing = cv2.morphologyEx(erosion, cv2.MORPH_CLOSE, np.ones((9,9),np.uint8),iterations=7)\n",
        "img_concate_result=np.concatenate((erosion,closing),axis=1)\n",
        "cv2_imshow(img_concate_result)"
      ],
      "execution_count": null,
      "outputs": []
    },
    {
      "cell_type": "code",
      "metadata": {
        "id": "fh8orCIRBkOq",
        "colab_type": "code",
        "colab": {}
      },
      "source": [
        "contours, hierarchy = cv2.findContours(closing, cv2.RETR_EXTERNAL, cv2.CHAIN_APPROX_SIMPLE)\n",
        "print(contours)\n",
        "len(contours)"
      ],
      "execution_count": null,
      "outputs": []
    },
    {
      "cell_type": "code",
      "metadata": {
        "id": "eM5FKHkzBphL",
        "colab_type": "code",
        "colab": {}
      },
      "source": [
        "for index, contour in enumerate(contours):\n",
        "  x, y, w, h = cv2.boundingRect(contour)\n",
        "  area = cv2.contourArea(contour)\n",
        "\n",
        "  print(\"Contour #\" + str(index), x, y, w, h, area)"
      ],
      "execution_count": null,
      "outputs": []
    },
    {
      "cell_type": "code",
      "metadata": {
        "id": "kW8WPQ4-Bteb",
        "colab_type": "code",
        "colab": {}
      },
      "source": [
        "x, y, w, h = cv2.boundingRect(contours[0])\n",
        "\n",
        "harry = image3[y:y+h, x:x+w]\n",
        "cv2_imshow(harry)\n",
        "cv2.rectangle(image3, (x,y), (x+w,y+h), (0,255,0), 2)\n",
        "cv2.putText(image3, 'widht :'+str(w)+' '+'height :'+str(h), (x,y-10), cv2.FONT_HERSHEY_SIMPLEX, 0.6, (0,255,0), 2)\n",
        "cv2_imshow(image3)"
      ],
      "execution_count": null,
      "outputs": []
    },
    {
      "cell_type": "markdown",
      "metadata": {
        "id": "T3CAk7ABCon0",
        "colab_type": "text"
      },
      "source": [
        "# Citra 4"
      ]
    },
    {
      "cell_type": "code",
      "metadata": {
        "id": "IkEgwl5GCqqX",
        "colab_type": "code",
        "colab": {}
      },
      "source": [
        "threshold_value, threshold_result_4 = cv2.threshold(equalized4, 75, 255, cv2.THRESH_BINARY)\n",
        "img_concate_Hori1=np.concatenate((equalized4,threshold_result_4),axis=1)\n",
        "cv2_imshow(img_concate_Hori1)\n",
        "\n",
        "threshold_value, threshold_result2_4 = cv2.threshold(gray4, 100, 255, cv2.THRESH_BINARY)\n",
        "img_concate_Hori2=np.concatenate((gray4,threshold_result2_4),axis=1)\n",
        "cv2_imshow(img_concate_Hori2)\n",
        "\n",
        "result= cv2.bitwise_not(threshold_result2_4)\n",
        "cv2_imshow(result)"
      ],
      "execution_count": null,
      "outputs": []
    },
    {
      "cell_type": "code",
      "metadata": {
        "id": "-dRUjIKxDoRR",
        "colab_type": "code",
        "colab": {}
      },
      "source": [
        "erosion = cv2.erode(result,np.ones((3,3),np.uint8),iterations = 3)\n",
        "closing = cv2.morphologyEx(erosion, cv2.MORPH_CLOSE, np.ones((9,9),np.uint8),iterations=7)\n",
        "img_concate_result=np.concatenate((erosion,closing),axis=1)\n",
        "cv2_imshow(img_concate_result)"
      ],
      "execution_count": null,
      "outputs": []
    },
    {
      "cell_type": "code",
      "metadata": {
        "id": "hEQzugTdD2fo",
        "colab_type": "code",
        "colab": {}
      },
      "source": [
        "contours, hierarchy = cv2.findContours(closing, cv2.RETR_EXTERNAL, cv2.CHAIN_APPROX_SIMPLE)\n",
        "print(contours)\n",
        "len(contours)"
      ],
      "execution_count": null,
      "outputs": []
    },
    {
      "cell_type": "code",
      "metadata": {
        "id": "wid_3MiOD59M",
        "colab_type": "code",
        "colab": {}
      },
      "source": [
        "for index, contour in enumerate(contours):\n",
        "  x, y, w, h = cv2.boundingRect(contour)\n",
        "  area = cv2.contourArea(contour)\n",
        "\n",
        "  print(\"Contour #\" + str(index), x, y, w, h, area)"
      ],
      "execution_count": null,
      "outputs": []
    },
    {
      "cell_type": "code",
      "metadata": {
        "id": "diUGnSHZD98N",
        "colab_type": "code",
        "colab": {}
      },
      "source": [
        "x, y, w, h = cv2.boundingRect(contours[0])\n",
        "\n",
        "capt = image4[y:y+h, x:x+w]\n",
        "cv2_imshow(capt)\n",
        "cv2.rectangle(image4, (x,y), (x+w,y+h), (0,255,0), 2)\n",
        "cv2.putText(image4, 'widht :'+str(w)+' '+'height :'+str(h), (x,y-10), cv2.FONT_HERSHEY_SIMPLEX, 0.6, (0,255,0), 2)\n",
        "cv2_imshow(image4)"
      ],
      "execution_count": null,
      "outputs": []
    },
    {
      "cell_type": "markdown",
      "metadata": {
        "id": "GMFWfPVuJs6s",
        "colab_type": "text"
      },
      "source": [
        "# Citra 5"
      ]
    },
    {
      "cell_type": "code",
      "metadata": {
        "id": "M9elBTF3Jr2_",
        "colab_type": "code",
        "colab": {}
      },
      "source": [
        "threshold_value, threshold_result_5 = cv2.threshold(equalized5, 45, 255, cv2.THRESH_BINARY)\n",
        "img_concate_Hori1=np.concatenate((equalized5,threshold_result_5),axis=1)\n",
        "cv2_imshow(img_concate_Hori1)\n",
        "\n",
        "threshold_value, threshold_result2_5 = cv2.threshold(gray5, 160, 255, cv2.THRESH_BINARY)\n",
        "img_concate_Hori2=np.concatenate((gray5,threshold_result2_5),axis=1)\n",
        "cv2_imshow(img_concate_Hori2)\n",
        "\n",
        "result= cv2.bitwise_not(threshold_result_5)\n",
        "cv2_imshow(result)"
      ],
      "execution_count": null,
      "outputs": []
    },
    {
      "cell_type": "code",
      "metadata": {
        "id": "XHOBEDHFJUb-",
        "colab_type": "code",
        "colab": {}
      },
      "source": [
        "erosion = cv2.erode(result,np.ones((3,3),np.uint8),iterations = 3)\n",
        "closing = cv2.morphologyEx(erosion, cv2.MORPH_CLOSE, np.ones((9,9),np.uint8),iterations=7)\n",
        "img_concate_result=np.concatenate((erosion,closing),axis=1)\n",
        "cv2_imshow(img_concate_result)"
      ],
      "execution_count": null,
      "outputs": []
    },
    {
      "cell_type": "code",
      "metadata": {
        "id": "6ZI292YiNJzu",
        "colab_type": "code",
        "colab": {}
      },
      "source": [
        "contours, hierarchy = cv2.findContours(closing, cv2.RETR_EXTERNAL, cv2.CHAIN_APPROX_SIMPLE)\n",
        "print(contours)\n",
        "len(contours)"
      ],
      "execution_count": null,
      "outputs": []
    },
    {
      "cell_type": "code",
      "metadata": {
        "id": "dQGnK2WLNOPC",
        "colab_type": "code",
        "colab": {}
      },
      "source": [
        "for index, contour in enumerate(contours):\n",
        "  x, y, w, h = cv2.boundingRect(contour)\n",
        "  area = cv2.contourArea(contour)\n",
        "\n",
        "  print(\"Contour #\" + str(index), x, y, w, h, area)"
      ],
      "execution_count": null,
      "outputs": []
    },
    {
      "cell_type": "code",
      "metadata": {
        "id": "Rsz9NCNyNRGl",
        "colab_type": "code",
        "colab": {}
      },
      "source": [
        "x, y, w, h = cv2.boundingRect(contours[0])\n",
        "\n",
        "budi = image5[y:y+h, x:x+w]\n",
        "cv2_imshow(budi)\n",
        "cv2.rectangle(image5, (x,y), (x+w,y+h), (0,255,0), 2)\n",
        "cv2.putText(image5, 'widht :'+str(w)+' '+'height :'+str(h), (x,y-10), cv2.FONT_HERSHEY_SIMPLEX, 0.6, (0,255,0), 2)\n",
        "\n",
        "cv2_imshow(image5)"
      ],
      "execution_count": null,
      "outputs": []
    },
    {
      "cell_type": "markdown",
      "metadata": {
        "id": "3-wGdQCIWi4d",
        "colab_type": "text"
      },
      "source": [
        "# Citra 6"
      ]
    },
    {
      "cell_type": "code",
      "metadata": {
        "id": "BLKwap0kWlJj",
        "colab_type": "code",
        "colab": {}
      },
      "source": [
        "threshold_value, threshold_result_6 = cv2.threshold(equalized6, 100, 255, cv2.THRESH_BINARY)\n",
        "img_concate_Hori1=np.concatenate((equalized6,threshold_result_6),axis=1)\n",
        "cv2_imshow(img_concate_Hori1)\n",
        "\n",
        "median6 = cv2.medianBlur(gray6,11)\n",
        "\n",
        "threshold_value, threshold_result2_6 = cv2.threshold(median6, 150, 255, cv2.THRESH_BINARY)\n",
        "img_concate_Hori2=np.concatenate((median6,threshold_result2_6),axis=1)\n",
        "cv2_imshow(img_concate_Hori2)\n",
        "\n",
        "result= cv2.bitwise_not(threshold_result2_6)\n",
        "cv2_imshow(result)"
      ],
      "execution_count": null,
      "outputs": []
    },
    {
      "cell_type": "code",
      "metadata": {
        "id": "PGan-k4hX3IQ",
        "colab_type": "code",
        "colab": {}
      },
      "source": [
        "erosion = cv2.erode(result,np.ones((1,1),np.uint8),iterations = 1)\n",
        "closing = cv2.morphologyEx(erosion, cv2.MORPH_CLOSE, np.ones((11,11),np.uint8),iterations=9)\n",
        "cv2_imshow(erosion)\n",
        "cv2_imshow(closing)"
      ],
      "execution_count": null,
      "outputs": []
    },
    {
      "cell_type": "code",
      "metadata": {
        "id": "dNCKD_ECd8yi",
        "colab_type": "code",
        "colab": {}
      },
      "source": [
        "contours, hierarchy = cv2.findContours(closing, cv2.RETR_EXTERNAL, cv2.CHAIN_APPROX_SIMPLE)\n",
        "print(contours)\n",
        "len(contours)"
      ],
      "execution_count": null,
      "outputs": []
    },
    {
      "cell_type": "code",
      "metadata": {
        "id": "QQK7NQvfeDOE",
        "colab_type": "code",
        "colab": {}
      },
      "source": [
        "for index, contour in enumerate(contours):\n",
        "  x, y, w, h = cv2.boundingRect(contour)\n",
        "  area = cv2.contourArea(contour)\n",
        "  print(\"Contour #\" + str(index), x, y, w, h, area)\n",
        "  x, y, w, h = cv2.boundingRect(contours[index])\n",
        "  cv2.rectangle(image6, (x,y), (x+w,y+h), (0,255,0), 2)\n",
        "  cv2.putText(image6, 'widht :'+str(w)+' '+'height :'+str(h), (x,y-10), cv2.FONT_HERSHEY_SIMPLEX, 0.6, (0,255,0), 2)\n",
        "  "
      ],
      "execution_count": null,
      "outputs": []
    },
    {
      "cell_type": "code",
      "metadata": {
        "id": "bt5syb5IgdSF",
        "colab_type": "code",
        "colab": {}
      },
      "source": [
        "cv2_imshow(image6)"
      ],
      "execution_count": null,
      "outputs": []
    },
    {
      "cell_type": "markdown",
      "metadata": {
        "id": "ML-MclfUo1Sf",
        "colab_type": "text"
      },
      "source": [
        "#Kesimpulan\n",
        "\n",
        "Preprocessing yang digunakan adalah equalizedHist yang dapat menghasilkan citra semakin kontras. Namun, beberapa citra hanya diubah menjadi grayscale saja untuk selanjutnya di threshold\n",
        "\n",
        "\n",
        "lalu dilakukan thresholding menggunakan global thresholding dengan perbedaan nilai threshold pada masing-masing citra. tujuannya adalah dapat memisahkan foreground/objek dengan background.\n",
        "\n",
        "lalu dilakukan operasi morfologi yaitu, erosi dan operasi closing\n",
        "erosi untuk menghilangkan noise disekitar objek, sedangkan closing untuk mengisi 'lubang' pada objek sehingga tiap objek dapat dibedakan dari background.\n",
        "\n",
        "untuk citra 6, citra terlebih dulu dilakukan smoothing dengan medianblur menggunakan kernel berukuran 11x11, baru dilakukan thresholding"
      ]
    }
  ]
}